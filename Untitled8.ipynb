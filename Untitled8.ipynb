{
  "nbformat": 4,
  "nbformat_minor": 0,
  "metadata": {
    "colab": {
      "provenance": [],
      "authorship_tag": "ABX9TyO+/Zgh1xZ0C71ep8vt+7ut",
      "include_colab_link": true
    },
    "kernelspec": {
      "name": "python3",
      "display_name": "Python 3"
    },
    "language_info": {
      "name": "python"
    }
  },
  "cells": [
    {
      "cell_type": "markdown",
      "metadata": {
        "id": "view-in-github",
        "colab_type": "text"
      },
      "source": [
        "<a href=\"https://colab.research.google.com/github/tku-sunchenpojui/introduction-to-computer/blob/main/Untitled8.ipynb\" target=\"_parent\"><img src=\"https://colab.research.google.com/assets/colab-badge.svg\" alt=\"Open In Colab\"/></a>"
      ]
    },
    {
      "cell_type": "code",
      "execution_count": 1,
      "metadata": {
        "colab": {
          "base_uri": "https://localhost:8080/"
        },
        "id": "z0XjmzV5b0AE",
        "outputId": "f4d0604b-92ed-4fd1-aee8-ac4e4eaf39de"
      },
      "outputs": [
        {
          "output_type": "stream",
          "name": "stdout",
          "text": [
            "請輸入最終成績\n",
            "請輸入成績60\n",
            "D\n"
          ]
        }
      ],
      "source": [
        "print(\"請輸入最終成績\")\n",
        "score = input(\"請輸入成績\")\n",
        "sc = int(score)\n",
        "if(sc>=90):\n",
        "  print(\"A\")\n",
        "elif(sc>=80):\n",
        "  print(\"B\")\n",
        "elif(sc>=70):\n",
        "  print(\"C\")\n",
        "elif(sc>=60):\n",
        "  print(\"D\")\n",
        "else:\n",
        "  print(\"E\")"
      ]
    },
    {
      "cell_type": "code",
      "source": [
        "# 輸入體溫\n",
        "temperature = float(input(\"請輸入體溫：\"))\n",
        "\n",
        "# 判斷體溫範圍並輸出結果\n",
        "if temperature >= 37.5:\n",
        "    print(\"體溫過高!\")\n",
        "elif 37 <= temperature <= 37.4:\n",
        "    print(\"體溫略高!\")\n",
        "elif 34 <= temperature <= 36.9:\n",
        "    print(\"體溫正常!\")\n",
        "elif temperature < 34:\n",
        "    print(\"體溫異常，請重新量測!\")\n"
      ],
      "metadata": {
        "colab": {
          "base_uri": "https://localhost:8080/"
        },
        "id": "XReXFZWKe3dW",
        "outputId": "22226a96-96ce-4f03-aa99-d8d1f199ef95"
      },
      "execution_count": 6,
      "outputs": [
        {
          "output_type": "stream",
          "name": "stdout",
          "text": [
            "請輸入體溫：44\n",
            "體溫過高!\n"
          ]
        }
      ]
    },
    {
      "cell_type": "code",
      "source": [
        "# 輸入月份\n",
        "month = int(input(\"請輸入月份（1-12）：\"))\n",
        "\n",
        "# 判斷季節\n",
        "if month in [3, 4, 5]:\n",
        "    season = \"春天\"\n",
        "elif month in [6, 7, 8]:\n",
        "    season = \"夏天\"\n",
        "elif month in [9, 10, 11]:\n",
        "    season = \"秋天\"\n",
        "elif month in [12, 1, 2]:\n",
        "    season = \"冬天\"\n",
        "else:\n",
        "    season = \"不在範圍內\"\n",
        "\n",
        "# 輸出結果\n",
        "print(f\"{month}月是{season}。\")\n"
      ],
      "metadata": {
        "colab": {
          "base_uri": "https://localhost:8080/"
        },
        "id": "ySbLy_H3e3n0",
        "outputId": "63544276-eb53-4bc1-a3a1-414f42d998ca"
      },
      "execution_count": 5,
      "outputs": [
        {
          "output_type": "stream",
          "name": "stdout",
          "text": [
            "請輸入月份（1-12）：6\n",
            "6月是夏天。\n"
          ]
        }
      ]
    },
    {
      "cell_type": "code",
      "source": [],
      "metadata": {
        "id": "ypfgq-Rwe3tf"
      },
      "execution_count": null,
      "outputs": []
    }
  ]
}