{
  "nbformat": 4,
  "nbformat_minor": 0,
  "metadata": {
    "colab": {
      "provenance": [],
      "authorship_tag": "ABX9TyNFgFycpqKLoorvRbH1pT4E",
      "include_colab_link": true
    },
    "kernelspec": {
      "name": "python3",
      "display_name": "Python 3"
    },
    "language_info": {
      "name": "python"
    }
  },
  "cells": [
    {
      "cell_type": "markdown",
      "metadata": {
        "id": "view-in-github",
        "colab_type": "text"
      },
      "source": [
        "<a href=\"https://colab.research.google.com/github/tku-sunchenpojui/introduction-to-computer/blob/main/Untitled2.ipynb\" target=\"_parent\"><img src=\"https://colab.research.google.com/assets/colab-badge.svg\" alt=\"Open In Colab\"/></a>"
      ]
    },
    {
      "cell_type": "code",
      "execution_count": 1,
      "metadata": {
        "colab": {
          "base_uri": "https://localhost:8080/"
        },
        "id": "fFJ8iFuOvZZg",
        "outputId": "9bcbfbca-2241-4067-831c-a398b0e40676"
      },
      "outputs": [
        {
          "name": "stdout",
          "output_type": "stream",
          "text": [
            "請輸入攝氏溫度32.5\n"
          ]
        }
      ],
      "source": [
        "攝氏 = float (input(\"請輸入攝氏溫度\"))"
      ]
    },
    {
      "cell_type": "code",
      "source": [
        "#計算對應的華氏溫度\n",
        "華氏 = 攝氏 * 9/5+32"
      ],
      "metadata": {
        "id": "gRg4DPzty_vh"
      },
      "execution_count": 2,
      "outputs": []
    },
    {
      "cell_type": "code",
      "source": [
        "#輸出轉換後的華氏溫度\n",
        "print(華氏)"
      ],
      "metadata": {
        "colab": {
          "base_uri": "https://localhost:8080/"
        },
        "id": "vpGFmye0y_yA",
        "outputId": "b28b2ca0-a048-4838-e266-71fe13834920"
      },
      "execution_count": 3,
      "outputs": [
        {
          "output_type": "stream",
          "name": "stdout",
          "text": [
            "90.5\n"
          ]
        }
      ]
    },
    {
      "cell_type": "code",
      "source": [
        "num = 2.9999999"
      ],
      "metadata": {
        "id": "cUV3SkWdy_0w"
      },
      "execution_count": 5,
      "outputs": []
    },
    {
      "cell_type": "code",
      "source": [
        "round_num = round(num, 1) #四捨五入制小數點第一位"
      ],
      "metadata": {
        "id": "HdLFhuHlzzjA"
      },
      "execution_count": 6,
      "outputs": []
    },
    {
      "cell_type": "code",
      "source": [
        "(round_num)"
      ],
      "metadata": {
        "colab": {
          "base_uri": "https://localhost:8080/"
        },
        "id": "rRXsFMgvzzlg",
        "outputId": "922ec68a-b46e-4afc-d980-7f82edbe843b"
      },
      "execution_count": 7,
      "outputs": [
        {
          "output_type": "execute_result",
          "data": {
            "text/plain": [
              "3.0"
            ]
          },
          "metadata": {},
          "execution_count": 7
        }
      ]
    },
    {
      "cell_type": "code",
      "source": [
        "體重= float(input(\"輸入你的體重(公斤:\"))"
      ],
      "metadata": {
        "colab": {
          "base_uri": "https://localhost:8080/"
        },
        "id": "Qc18ztNjy_4A",
        "outputId": "13eb801f-267b-4cde-bcd1-b45bb65594d9"
      },
      "execution_count": 8,
      "outputs": [
        {
          "name": "stdout",
          "output_type": "stream",
          "text": [
            "輸入你的體重(公斤:48\n"
          ]
        }
      ]
    },
    {
      "cell_type": "code",
      "source": [
        "身高公分= float(input(\"請輸入您的身高(公分):\"))"
      ],
      "metadata": {
        "colab": {
          "base_uri": "https://localhost:8080/"
        },
        "id": "RP8qRRpz0GUq",
        "outputId": "9e886997-cf23-4bb2-b6a7-501c034b4a29"
      },
      "execution_count": 9,
      "outputs": [
        {
          "name": "stdout",
          "output_type": "stream",
          "text": [
            "請輸入您的身高(公分):155\n"
          ]
        }
      ]
    },
    {
      "cell_type": "code",
      "source": [
        "BMI=  體重/(身高公分/100)**2"
      ],
      "metadata": {
        "id": "iM8xX6pk0GWx"
      },
      "execution_count": 10,
      "outputs": []
    },
    {
      "cell_type": "code",
      "source": [
        "BMI=  round(BMI, 2)  #將BMI四捨五入制小數點第二位"
      ],
      "metadata": {
        "id": "ubYWKytl0GZS"
      },
      "execution_count": null,
      "outputs": []
    },
    {
      "cell_type": "code",
      "source": [
        "print(BMI)"
      ],
      "metadata": {
        "colab": {
          "base_uri": "https://localhost:8080/"
        },
        "id": "looBxCtG0GbY",
        "outputId": "e4fbfd40-a5b6-4171-9c40-8e7b0d48a395"
      },
      "execution_count": 11,
      "outputs": [
        {
          "output_type": "stream",
          "name": "stdout",
          "text": [
            "19.979188345473464\n"
          ]
        }
      ]
    },
    {
      "cell_type": "code",
      "source": [
        "總和= sum(range(1, 101))# 加總1-100(這邊是指到101停止"
      ],
      "metadata": {
        "id": "yNoo-gW_0Gdh"
      },
      "execution_count": 12,
      "outputs": []
    },
    {
      "cell_type": "code",
      "source": [
        "print(總和)"
      ],
      "metadata": {
        "colab": {
          "base_uri": "https://localhost:8080/"
        },
        "id": "qPa6seK30Gf4",
        "outputId": "50af9a78-9364-481a-fea0-90c905c348db"
      },
      "execution_count": 13,
      "outputs": [
        {
          "output_type": "stream",
          "name": "stdout",
          "text": [
            "5050\n"
          ]
        }
      ]
    },
    {
      "cell_type": "code",
      "source": [
        "總和= sum(range(1, 51, 2))"
      ],
      "metadata": {
        "id": "HD54b0Jg0GiA"
      },
      "execution_count": 14,
      "outputs": []
    },
    {
      "cell_type": "code",
      "source": [
        "print(總和)"
      ],
      "metadata": {
        "colab": {
          "base_uri": "https://localhost:8080/"
        },
        "id": "nI-uzzLe1Ni7",
        "outputId": "10daaf22-570f-4983-90a9-9bba219718bd"
      },
      "execution_count": 15,
      "outputs": [
        {
          "output_type": "stream",
          "name": "stdout",
          "text": [
            "625\n"
          ]
        }
      ]
    },
    {
      "cell_type": "code",
      "source": [],
      "metadata": {
        "id": "ZGLu1SqB1NlR"
      },
      "execution_count": null,
      "outputs": []
    },
    {
      "cell_type": "code",
      "source": [],
      "metadata": {
        "id": "cNlAkL1y1Nn5"
      },
      "execution_count": null,
      "outputs": []
    },
    {
      "cell_type": "code",
      "source": [],
      "metadata": {
        "id": "YSDWm6dc1NqR"
      },
      "execution_count": null,
      "outputs": []
    }
  ]
}