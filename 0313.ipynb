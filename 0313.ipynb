{
  "nbformat": 4,
  "nbformat_minor": 0,
  "metadata": {
    "colab": {
      "provenance": [],
      "include_colab_link": true
    },
    "kernelspec": {
      "name": "python3",
      "display_name": "Python 3"
    },
    "language_info": {
      "name": "python"
    }
  },
  "cells": [
    {
      "cell_type": "markdown",
      "metadata": {
        "id": "view-in-github",
        "colab_type": "text"
      },
      "source": [
        "<a href=\"https://colab.research.google.com/github/tku-sunchenpojui/introduction-to-computer/blob/main/0313.ipynb\" target=\"_parent\"><img src=\"https://colab.research.google.com/assets/colab-badge.svg\" alt=\"Open In Colab\"/></a>"
      ]
    },
    {
      "cell_type": "code",
      "execution_count": null,
      "metadata": {
        "colab": {
          "base_uri": "https://localhost:8080/"
        },
        "id": "i1MU2h1XvbB_",
        "outputId": "900ac21b-c248-48bf-f2d8-4c9d327de3ed"
      },
      "outputs": [
        {
          "output_type": "stream",
          "name": "stdout",
          "text": [
            "<class 'int'>\n"
          ]
        }
      ],
      "source": [
        "x=1\n",
        "print(type(x))"
      ]
    },
    {
      "cell_type": "code",
      "source": [
        "b=1.5\n",
        "print(type(b))"
      ],
      "metadata": {
        "colab": {
          "base_uri": "https://localhost:8080/"
        },
        "id": "wm1ua1S6v92e",
        "outputId": "9bba4666-ce23-41b6-f743-69f70c1265a7"
      },
      "execution_count": null,
      "outputs": [
        {
          "output_type": "stream",
          "name": "stdout",
          "text": [
            "<class 'float'>\n"
          ]
        }
      ]
    },
    {
      "cell_type": "code",
      "source": [
        "a= True\n",
        "print(type(a))"
      ],
      "metadata": {
        "colab": {
          "base_uri": "https://localhost:8080/"
        },
        "id": "Liv1dc9BwaSW",
        "outputId": "a196c964-3ced-4a5d-a7ae-2c46c7765728"
      },
      "execution_count": null,
      "outputs": [
        {
          "output_type": "stream",
          "name": "stdout",
          "text": [
            "<class 'bool'>\n"
          ]
        }
      ]
    },
    {
      "cell_type": "code",
      "source": [
        "s=\"Hello, goodbye\"\n",
        "print(s)\n",
        "print(type(s))"
      ],
      "metadata": {
        "colab": {
          "base_uri": "https://localhost:8080/"
        },
        "id": "F_wOs-2Rwguy",
        "outputId": "045af7be-561f-419b-caab-e3096a8a57c3"
      },
      "execution_count": null,
      "outputs": [
        {
          "output_type": "stream",
          "name": "stdout",
          "text": [
            "Hello, goodbye\n",
            "<class 'str'>\n"
          ]
        }
      ]
    },
    {
      "cell_type": "code",
      "source": [
        "str1=\"410576523\"\n",
        "\n",
        "str2=\"孫陳伯瑞\"\n",
        "\n",
        "print(str1+str2)"
      ],
      "metadata": {
        "colab": {
          "base_uri": "https://localhost:8080/"
        },
        "id": "p6gIf9OmwsgO",
        "outputId": "e81d58e6-4676-475d-a425-e129886cacbf"
      },
      "execution_count": null,
      "outputs": [
        {
          "output_type": "stream",
          "name": "stdout",
          "text": [
            "410576523孫陳伯瑞\n"
          ]
        }
      ]
    },
    {
      "cell_type": "code",
      "source": [
        "str3=\"410576523\"\n",
        "print(str3*3)"
      ],
      "metadata": {
        "colab": {
          "base_uri": "https://localhost:8080/"
        },
        "id": "ggCm2y-Aw7Aq",
        "outputId": "2fea82d6-e895-4247-cdb8-445f6af2bcc4"
      },
      "execution_count": null,
      "outputs": [
        {
          "output_type": "stream",
          "name": "stdout",
          "text": [
            "410576523410576523410576523\n"
          ]
        }
      ]
    },
    {
      "cell_type": "code",
      "source": [
        "str4=\"410576523\"\n",
        "print(len(str4))"
      ],
      "metadata": {
        "colab": {
          "base_uri": "https://localhost:8080/"
        },
        "id": "GjQRKtxExL5v",
        "outputId": "32cf35c7-5171-4e71-b623-b68c1c129d38"
      },
      "execution_count": null,
      "outputs": [
        {
          "output_type": "stream",
          "name": "stdout",
          "text": [
            "9\n"
          ]
        }
      ]
    },
    {
      "cell_type": "code",
      "source": [
        "str5=\"孫陳伯瑞\"\n",
        "str5[0]"
      ],
      "metadata": {
        "colab": {
          "base_uri": "https://localhost:8080/",
          "height": 35
        },
        "id": "HWnCgFqyxZ77",
        "outputId": "3867a246-1146-4969-9a55-023d4d4c1494"
      },
      "execution_count": null,
      "outputs": [
        {
          "output_type": "execute_result",
          "data": {
            "text/plain": [
              "'孫'"
            ],
            "application/vnd.google.colaboratory.intrinsic+json": {
              "type": "string"
            }
          },
          "metadata": {},
          "execution_count": 8
        }
      ]
    },
    {
      "cell_type": "code",
      "source": [
        "str6=\"孫陳伯瑞\"\n",
        "print(str6*20)\n",
        "print(len(str6*20))"
      ],
      "metadata": {
        "colab": {
          "base_uri": "https://localhost:8080/"
        },
        "id": "R8nPD_XVxnwf",
        "outputId": "66e8632e-1bd5-4309-b7c3-ce28a370ac1a"
      },
      "execution_count": null,
      "outputs": [
        {
          "output_type": "stream",
          "name": "stdout",
          "text": [
            "孫陳伯瑞孫陳伯瑞孫陳伯瑞孫陳伯瑞孫陳伯瑞孫陳伯瑞孫陳伯瑞孫陳伯瑞孫陳伯瑞孫陳伯瑞孫陳伯瑞孫陳伯瑞孫陳伯瑞孫陳伯瑞孫陳伯瑞孫陳伯瑞孫陳伯瑞孫陳伯瑞孫陳伯瑞孫陳伯瑞\n",
            "80\n"
          ]
        }
      ]
    }
  ]
}