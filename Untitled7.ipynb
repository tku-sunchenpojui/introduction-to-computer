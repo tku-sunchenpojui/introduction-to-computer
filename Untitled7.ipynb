{
  "nbformat": 4,
  "nbformat_minor": 0,
  "metadata": {
    "colab": {
      "provenance": [],
      "authorship_tag": "ABX9TyPEGWja3UnXFW1gcJncSPBY",
      "include_colab_link": true
    },
    "kernelspec": {
      "name": "python3",
      "display_name": "Python 3"
    },
    "language_info": {
      "name": "python"
    }
  },
  "cells": [
    {
      "cell_type": "markdown",
      "metadata": {
        "id": "view-in-github",
        "colab_type": "text"
      },
      "source": [
        "<a href=\"https://colab.research.google.com/github/tku-sunchenpojui/introduction-to-computer/blob/main/Untitled7.ipynb\" target=\"_parent\"><img src=\"https://colab.research.google.com/assets/colab-badge.svg\" alt=\"Open In Colab\"/></a>"
      ]
    },
    {
      "cell_type": "code",
      "execution_count": null,
      "metadata": {
        "id": "J0ylnMhdsshz"
      },
      "outputs": [],
      "source": [
        "score = int(input(\"請輸入正整數\"))\n",
        "if score <=0:\n",
        " print(\"錯誤\")\n",
        "elif score % 2 ==0:\n",
        " print(f\"(score) is even\")\n",
        "else:\n",
        " print(f\"(score) is odd\")"
      ]
    }
  ]
}