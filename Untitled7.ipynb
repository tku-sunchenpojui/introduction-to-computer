{
  "nbformat": 4,
  "nbformat_minor": 0,
  "metadata": {
    "colab": {
      "provenance": [],
      "authorship_tag": "ABX9TyPEGWja3UnXFW1gcJncSPBY",
      "include_colab_link": true
    },
    "kernelspec": {
      "name": "python3",
      "display_name": "Python 3"
    },
    "language_info": {
      "name": "python"
    }
  },
  "cells": [
    {
      "cell_type": "markdown",
      "metadata": {
        "id": "view-in-github",
        "colab_type": "text"
      },
      "source": [
        "<a href=\"https://colab.research.google.com/github/tku-sunchenpojui/introduction-to-computer/blob/main/Untitled7.ipynb\" target=\"_parent\"><img src=\"https://colab.research.google.com/assets/colab-badge.svg\" alt=\"Open In Colab\"/></a>"
      ]
    },
    {
      "cell_type": "code",
      "execution_count": 1,
      "metadata": {
        "colab": {
          "base_uri": "https://localhost:8080/"
        },
        "id": "J0ylnMhdsshz",
        "outputId": "ce80a9dc-62ae-424e-b5e2-a9d4ddada17f"
      },
      "outputs": [
        {
          "output_type": "stream",
          "name": "stdout",
          "text": [
            "請輸入正整數2\n",
            "(score) is even\n"
          ]
        }
      ],
      "source": [
        "score = int(input(\"請輸入正整數\"))\n",
        "if score <=0:\n",
        " print(\"錯誤\")\n",
        "elif score % 2 ==0:\n",
        " print(f\"(score) is even\")\n",
        "else:\n",
        " print(f\"(score) is odd\")"
      ]
    }
  ]
}