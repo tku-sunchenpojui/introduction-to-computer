{
  "nbformat": 4,
  "nbformat_minor": 0,
  "metadata": {
    "colab": {
      "provenance": [],
      "authorship_tag": "ABX9TyPiJ4Fj/z8Zvyy/ZZYz6CGT",
      "include_colab_link": true
    },
    "kernelspec": {
      "name": "python3",
      "display_name": "Python 3"
    },
    "language_info": {
      "name": "python"
    }
  },
  "cells": [
    {
      "cell_type": "markdown",
      "metadata": {
        "id": "view-in-github",
        "colab_type": "text"
      },
      "source": [
        "<a href=\"https://colab.research.google.com/github/tku-sunchenpojui/introduction-to-computer/blob/main/410576523.ipynb\" target=\"_parent\"><img src=\"https://colab.research.google.com/assets/colab-badge.svg\" alt=\"Open In Colab\"/></a>"
      ]
    },
    {
      "cell_type": "code",
      "source": [
        "n = int(input())\n",
        "for i in range(1,n+1):\n",
        "  print(i * \"*\")"
      ],
      "metadata": {
        "colab": {
          "base_uri": "https://localhost:8080/"
        },
        "id": "mZnvec_4D3Fa",
        "outputId": "39d6417f-5073-4543-addb-0d2a53642306"
      },
      "execution_count": 1,
      "outputs": [
        {
          "output_type": "stream",
          "name": "stdout",
          "text": [
            "5\n",
            "*\n",
            "**\n",
            "***\n",
            "****\n",
            "*****\n"
          ]
        }
      ]
    },
    {
      "cell_type": "code",
      "source": [
        "a = input(\"請輸入月份\")\n",
        "a = int(a)\n",
        "if(a>=3 and a<=5):\n",
        "  print(a ,\"is spring\")\n",
        "elif(a>=6 and a<=8):\n",
        "  print(a ,\"is summer\")\n",
        "if(a>=9 and a<=11):\n",
        "  print(a ,\"is autumn\")\n",
        "elif(a==12 or a==1 or a==2):\n",
        "  print(a ,\"is winter\")\n",
        "if(a>=13 or a<1):\n",
        "  print(\"error\")"
      ],
      "metadata": {
        "colab": {
          "base_uri": "https://localhost:8080/"
        },
        "id": "uVvxW1o_D3Ww",
        "outputId": "67defe97-34e5-4d70-ae64-f313f6701349"
      },
      "execution_count": 2,
      "outputs": [
        {
          "output_type": "stream",
          "name": "stdout",
          "text": [
            "請輸入月份12\n",
            "12 is winter\n"
          ]
        }
      ]
    },
    {
      "cell_type": "code",
      "source": [
        "monthA = int(input())\n",
        "if(3 <= monthA <= 5):\n",
        "  print('{} is summer'.format(monthA))\n",
        "elif(6 <= monthA <= 8):\n",
        "  print('{} is summer'.format(monthA))\n",
        "elif(9 <= monthA <= 11):\n",
        "  print('{} is autumn'.format(monthA))\n",
        "elif(monthA == 12 or monthA == 1 or monthA == 2):\n",
        "  print('{} is winter'.format(monthA))\n",
        "else:\n",
        "  print('input error')"
      ],
      "metadata": {
        "colab": {
          "base_uri": "https://localhost:8080/"
        },
        "id": "yz86KYjcD3cS",
        "outputId": "20389609-eb36-4b43-9a2b-e0f851ac29f0"
      },
      "execution_count": 3,
      "outputs": [
        {
          "output_type": "stream",
          "name": "stdout",
          "text": [
            "13\n",
            "input error\n"
          ]
        }
      ]
    },
    {
      "cell_type": "code",
      "source": [
        "A = int(input())\n",
        "if(90 <= A <= 100):\n",
        "  print('{} is A'.format(A))\n",
        "elif(80 <= A <= 89):\n",
        "  print('{} is B'.format(A))\n",
        "elif(70 <= A <= 79):\n",
        "  print('{} is C'.format(A))\n",
        "elif(60 <= A <= 69):\n",
        "  print('{} is D'.format(A))\n",
        "elif(0 <= A <= 59):\n",
        "  print('{} is E'.format(A))\n",
        "else:\n",
        "  print('{} is error'.format(A))"
      ],
      "metadata": {
        "colab": {
          "base_uri": "https://localhost:8080/"
        },
        "id": "gW7T1aXrD3r6",
        "outputId": "e2e1463b-fcab-48f6-a37d-979337ff1296"
      },
      "execution_count": 4,
      "outputs": [
        {
          "output_type": "stream",
          "name": "stdout",
          "text": [
            "102\n",
            "102 is error\n"
          ]
        }
      ]
    }
  ]
}