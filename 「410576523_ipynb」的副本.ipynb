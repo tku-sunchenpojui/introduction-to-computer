{
  "nbformat": 4,
  "nbformat_minor": 0,
  "metadata": {
    "colab": {
      "provenance": [],
      "authorship_tag": "ABX9TyPF+fQERjh8n3Xu6SUT058q",
      "include_colab_link": true
    },
    "kernelspec": {
      "name": "python3",
      "display_name": "Python 3"
    },
    "language_info": {
      "name": "python"
    }
  },
  "cells": [
    {
      "cell_type": "markdown",
      "metadata": {
        "id": "view-in-github",
        "colab_type": "text"
      },
      "source": [
        "<a href=\"https://colab.research.google.com/github/tku-sunchenpojui/introduction-to-computer/blob/main/%E3%80%8C410576523_ipynb%E3%80%8D%E7%9A%84%E5%89%AF%E6%9C%AC.ipynb\" target=\"_parent\"><img src=\"https://colab.research.google.com/assets/colab-badge.svg\" alt=\"Open In Colab\"/></a>"
      ]
    },
    {
      "cell_type": "code",
      "execution_count": 1,
      "metadata": {
        "id": "8SB3VdWcgy1G",
        "colab": {
          "base_uri": "https://localhost:8080/"
        },
        "outputId": "3c2418fa-3d5a-4981-da6f-e2ae626e0979"
      },
      "outputs": [
        {
          "output_type": "stream",
          "name": "stdout",
          "text": [
            "happy\n",
            "happy\n",
            "happy\n",
            "happy\n",
            "happy\n",
            "happy\n",
            "happy\n",
            "happy\n",
            "happy\n"
          ]
        }
      ],
      "source": [
        "a = 0\n",
        "\n",
        "\n",
        "for i in range(9):\n",
        "  print(\"happy\")\n",
        "\n"
      ]
    },
    {
      "cell_type": "code",
      "source": [
        "for i in range(1,10,2):\n",
        "  print(i,end=\",\")\n",
        "\n",
        "\n"
      ],
      "metadata": {
        "id": "03m_WUe8g3nw",
        "colab": {
          "base_uri": "https://localhost:8080/"
        },
        "outputId": "8b27d060-982b-4c03-8eb3-73f5f6f4d345"
      },
      "execution_count": 2,
      "outputs": [
        {
          "output_type": "stream",
          "name": "stdout",
          "text": [
            "1,3,5,7,9,"
          ]
        }
      ]
    },
    {
      "cell_type": "code",
      "source": [
        "n = int(input())\n",
        "total = 0\n",
        "for i in range(1,n+1):\n",
        "  total += i\n",
        "print(\"1到{}的總和為{}\".format(n,total))\n",
        "\n"
      ],
      "metadata": {
        "id": "2ZHZV0_Pg3qV",
        "colab": {
          "base_uri": "https://localhost:8080/"
        },
        "outputId": "cc8af434-5045-4f9e-a1fe-005424946ee6"
      },
      "execution_count": 3,
      "outputs": [
        {
          "output_type": "stream",
          "name": "stdout",
          "text": [
            "100\n",
            "1到100的總和為5050\n"
          ]
        }
      ]
    },
    {
      "cell_type": "code",
      "source": [
        "n = int(input())\n",
        "total = 0\n",
        "for i in range(1,n+1):\n",
        "  if i % 2 == 0:\n",
        "   total += i\n",
        "print(\"1到{}的所有奇數總合為{}\".format(n,total))\n",
        "\n"
      ],
      "metadata": {
        "id": "NzZDdXbOg3s8",
        "colab": {
          "base_uri": "https://localhost:8080/"
        },
        "outputId": "6e254aa6-4e16-4a84-c195-1c8d2db65d71"
      },
      "execution_count": 5,
      "outputs": [
        {
          "output_type": "stream",
          "name": "stdout",
          "text": [
            "100\n",
            "1到100的所有奇數總合為2550\n"
          ]
        }
      ]
    },
    {
      "cell_type": "code",
      "source": [],
      "metadata": {
        "id": "Och9u9GXg3vY"
      },
      "execution_count": null,
      "outputs": []
    },
    {
      "cell_type": "code",
      "source": [],
      "metadata": {
        "id": "RCJfi3wPg3x0"
      },
      "execution_count": null,
      "outputs": []
    },
    {
      "cell_type": "code",
      "source": [],
      "metadata": {
        "id": "7XZarvdTg3z7"
      },
      "execution_count": null,
      "outputs": []
    },
    {
      "cell_type": "code",
      "source": [],
      "metadata": {
        "id": "okBus5jjg32I"
      },
      "execution_count": null,
      "outputs": []
    }
  ]
}